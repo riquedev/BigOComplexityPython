{
 "cells": [
  {
   "cell_type": "markdown",
   "source": [
    "![Big-O Complexity Chart](public/img/1_5ZLci3SuR0zM_QlZOADv8Q.jpeg)\n"
   ],
   "metadata": {
    "collapsed": false,
    "pycharm": {
     "name": "#%% md\n"
    }
   }
  },
  {
   "cell_type": "markdown",
   "metadata": {
    "pycharm": {
     "name": "#%% md\n"
    }
   },
   "source": [
    "# Big-O notation, sometimes called “asymptotic notation”, is a mathematical notation that describes the limiting behavior of a function when the argument tends towards a particular value or infinity.\n",
    "\n",
    "In computer science, Big-O notation is used to classify algorithms according to how their running time or space requirements grow as the input size (n) grows. This notation characterizes functions according to their growth rates: different functions with the same growth rate may be represented using the same O notation.\n",
    "\n",
    "From: [Understanding time complexity with Python examples](https://towardsdatascience.com/understanding-time-complexity-with-python-examples-2bda6e8158a7)"
   ]
  },
  {
   "cell_type": "code",
   "execution_count": 15,
   "metadata": {
    "pycharm": {
     "name": "#%%\n"
    }
   },
   "outputs": [
    {
     "data": {
      "text/html": [
       "<style type=\"text/css\">\n",
       "</style>\n",
       "<table id=\"T_85e14\">\n",
       "  <thead>\n",
       "    <tr>\n",
       "      <th class=\"blank level0\" >&nbsp;</th>\n",
       "      <th id=\"T_85e14_level0_col0\" class=\"col_heading level0 col0\" >Name</th>\n",
       "      <th id=\"T_85e14_level0_col1\" class=\"col_heading level0 col1\" >Time Complexity</th>\n",
       "    </tr>\n",
       "  </thead>\n",
       "  <tbody>\n",
       "    <tr>\n",
       "      <th id=\"T_85e14_level0_row0\" class=\"row_heading level0 row0\" >0</th>\n",
       "      <td id=\"T_85e14_row0_col0\" class=\"data row0 col0\" >Constant</td>\n",
       "      <td id=\"T_85e14_row0_col1\" class=\"data row0 col1\" >O(1)</td>\n",
       "    </tr>\n",
       "    <tr>\n",
       "      <th id=\"T_85e14_level0_row1\" class=\"row_heading level0 row1\" >1</th>\n",
       "      <td id=\"T_85e14_row1_col0\" class=\"data row1 col0\" >Logarithmic</td>\n",
       "      <td id=\"T_85e14_row1_col1\" class=\"data row1 col1\" >O(log n)</td>\n",
       "    </tr>\n",
       "    <tr>\n",
       "      <th id=\"T_85e14_level0_row2\" class=\"row_heading level0 row2\" >2</th>\n",
       "      <td id=\"T_85e14_row2_col0\" class=\"data row2 col0\" >Linear</td>\n",
       "      <td id=\"T_85e14_row2_col1\" class=\"data row2 col1\" >O(n)</td>\n",
       "    </tr>\n",
       "    <tr>\n",
       "      <th id=\"T_85e14_level0_row3\" class=\"row_heading level0 row3\" >3</th>\n",
       "      <td id=\"T_85e14_row3_col0\" class=\"data row3 col0\" >Quasilinear</td>\n",
       "      <td id=\"T_85e14_row3_col1\" class=\"data row3 col1\" >O(n log n) </td>\n",
       "    </tr>\n",
       "    <tr>\n",
       "      <th id=\"T_85e14_level0_row4\" class=\"row_heading level0 row4\" >4</th>\n",
       "      <td id=\"T_85e14_row4_col0\" class=\"data row4 col0\" >Quadratic</td>\n",
       "      <td id=\"T_85e14_row4_col1\" class=\"data row4 col1\" >O(n^2)</td>\n",
       "    </tr>\n",
       "    <tr>\n",
       "      <th id=\"T_85e14_level0_row5\" class=\"row_heading level0 row5\" >5</th>\n",
       "      <td id=\"T_85e14_row5_col0\" class=\"data row5 col0\" >Exponential</td>\n",
       "      <td id=\"T_85e14_row5_col1\" class=\"data row5 col1\" >O(2^n)</td>\n",
       "    </tr>\n",
       "    <tr>\n",
       "      <th id=\"T_85e14_level0_row6\" class=\"row_heading level0 row6\" >6</th>\n",
       "      <td id=\"T_85e14_row6_col0\" class=\"data row6 col0\" >Factorial</td>\n",
       "      <td id=\"T_85e14_row6_col1\" class=\"data row6 col1\" >O(n!)</td>\n",
       "    </tr>\n",
       "  </tbody>\n",
       "</table>\n"
      ],
      "text/plain": [
       "<pandas.io.formats.style.Styler at 0x1ef181f6070>"
      ]
     },
     "execution_count": 15,
     "metadata": {},
     "output_type": "execute_result"
    }
   ],
   "source": [
    "import pandas\n",
    "\n",
    "common_time_complexities = pandas.DataFrame([\n",
    "    ['Constant','O(1)'],\n",
    "    ['Logarithmic','O(log n)'],\n",
    "    ['Linear','O(n)'],\n",
    "    ['Quasilinear','O(n log n) '],\n",
    "    ['Quadratic','O(n^2)'],\n",
    "    ['Exponential','O(2^n)'],\n",
    "    ['Factorial','O(n!)']\n",
    "],columns=['Name','Time Complexity'])\n",
    "\n",
    "common_time_complexities.style"
   ]
  },
  {
   "cell_type": "markdown",
   "metadata": {
    "pycharm": {
     "name": "#%% md\n"
    }
   },
   "source": [
    "# Constant Time — O(1)\n",
    "## An algorithm is said to have a constant time when it is not dependent on the input data (n). No matter the size of the input data, the running time will always be the same. For example:\n",
    "\n",
    "```python\n",
    "if a > b:\n",
    "    return True\n",
    "else:\n",
    "    return False\n",
    "```"
   ]
  },
  {
   "cell_type": "code",
   "execution_count": 24,
   "metadata": {
    "pycharm": {
     "name": "#%%\n"
    }
   },
   "outputs": [
    {
     "name": "stdout",
     "output_type": "stream",
     "text": [
      "0\n",
      "CPU times: total: 0 ns\n",
      "Wall time: 0 ns\n"
     ]
    }
   ],
   "source": [
    "%%time\n",
    "\n",
    "def get_first(data):\n",
    "    return data[0]\n",
    "\n",
    "data = range(0, 1000001)\n",
    "\n",
    "get_first(data)\n"
   ]
  },
  {
   "cell_type": "markdown",
   "metadata": {
    "pycharm": {
     "name": "#%% md\n"
    }
   },
   "source": [
    "Independently of the input data size, it will always have the same running time since it only gets the first value from the list.\n",
    "An algorithm with constant time complexity is excellent since we don’t need to worry about the input size."
   ]
  },
  {
   "cell_type": "markdown",
   "metadata": {
    "pycharm": {
     "name": "#%% md\n"
    }
   },
   "source": [
    "# Logarithmic Time — O(log n)\n",
    "## An algorithm is said to have a logarithmic time complexity when it reduces the size of the input data in each step (it don’t need to look at all values of the input data), for example:\n",
    "\n",
    "\n",
    "```python\n",
    "for index in range(0, len(data), 3):\n",
    "    print(data[index])\n",
    "```\n",
    "\n",
    "Algorithms with logarithmic time complexity are commonly found in operations on binary trees or when using binary search. Let’s take a look at the example of a binary search, where we need to find the position of an element in a sorted list:"
   ]
  },
  {
   "cell_type": "code",
   "execution_count": 31,
   "metadata": {
    "pycharm": {
     "name": "#%%\n"
    }
   },
   "outputs": [
    {
     "name": "stdout",
     "output_type": "stream",
     "text": [
      "CPU times: total: 0 ns\n",
      "Wall time: 0 ns\n"
     ]
    },
    {
     "data": {
      "text/plain": "502"
     },
     "execution_count": 31,
     "metadata": {},
     "output_type": "execute_result"
    }
   ],
   "source": [
    "%%time\n",
    "def binary_search(data, value):\n",
    "    n = len(data)\n",
    "    left = 0\n",
    "    right = n - 1\n",
    "    while left <= right:\n",
    "        middle = (left + right) // 2\n",
    "        if value < data[middle]:\n",
    "            right = middle - 1\n",
    "        elif value > data[middle]:\n",
    "            left = middle + 1\n",
    "        else:\n",
    "            return middle\n",
    "    raise ValueError('Value is not in the list')\n",
    "\n",
    "data = range(0, 1000001)\n",
    "binary_search(data, 502)"
   ]
  },
  {
   "cell_type": "markdown",
   "metadata": {
    "pycharm": {
     "name": "#%% md\n"
    }
   },
   "source": [
    "### Steps of the binary search:\n",
    "- Calculate the middle of the list.\n",
    "- If the searched value is lower than the value in the middle of the list, set a new right bounder.\n",
    "- If the searched value is higher than the value in the middle of the list, set a new left bounder.\n",
    "- If the search value is equal to the value in the middle of the list, return the middle (the index).\n",
    "- Repeat the steps above until the value is found or the left bounder is equal or higher the right bounder.\n",
    "- It is important to understand that an algorithm that must access all elements of its input data cannot take logarithmic time, as the time taken for reading input of size n is of the order of n."
   ]
  },
  {
   "cell_type": "markdown",
   "metadata": {
    "pycharm": {
     "name": "#%% md\n"
    }
   },
   "source": [
    "# Linear Time — O(n)\n",
    "An algorithm is said to have a linear time complexity when the running time increases at most linearly with the size of the input data. This is the best possible time complexity when the algorithm must examine all values in the input data. For example:\n",
    "\n",
    "```python\n",
    "for value in data:\n",
    "    print(value)\n",
    "```"
   ]
  },
  {
   "cell_type": "code",
   "execution_count": 25,
   "outputs": [
    {
     "name": "stdout",
     "output_type": "stream",
     "text": [
      "705\n",
      "CPU times: total: 0 ns\n",
      "Wall time: 0 ns\n"
     ]
    }
   ],
   "source": [
    "%%time\n",
    "\n",
    "\"\"\"\n",
    "Let’s take a look at the example of a linear search, where we need to find the position of an element in an unsorted list:\n",
    "\"\"\"\n",
    "\n",
    "def linear_search(data, value):\n",
    "    for index in range(len(data)):\n",
    "        if value == data[index]:\n",
    "            return index\n",
    "    raise ValueError('Value not found in the list')\n",
    "\n",
    "data = range(0, 1000001)\n",
    "linear_search(data, 705)\n",
    "\n",
    "# Note that in this example, we need to look at all values in the list to find the value we are looking for."
   ],
   "metadata": {
    "collapsed": false,
    "pycharm": {
     "name": "#%%\n"
    }
   }
  },
  {
   "cell_type": "markdown",
   "source": [
    "# Quasilinear Time — O(n log n)\n",
    "An algorithm is said to have a quasilinear time complexity when each operation in the input data have a logarithm time complexity. It is commonly seen in sorting algorithms (e.g. mergesort, timsort, heapsort).\n",
    "\n",
    "For example: for each value in the data1 (O(n)) use the binary search (O(log n)) to search the same value in data2.\n",
    "\n",
    "```python\n",
    "for value in data1:\n",
    "    result.append(binary_search(data2, value))\n",
    "```"
   ],
   "metadata": {
    "collapsed": false,
    "pycharm": {
     "name": "#%% md\n"
    }
   }
  },
  {
   "cell_type": "code",
   "execution_count": 29,
   "outputs": [
    {
     "name": "stdout",
     "output_type": "stream",
     "text": [
      "CPU times: total: 2.41 s\n",
      "Wall time: 2.42 s\n"
     ]
    }
   ],
   "source": [
    "%%time\n",
    "# Another, more complex example, can be found in the Mergesort algorithm. Mergesort is an efficient, general-purpose, comparison-based sorting algorithm which has quasilinear time complexity, let’s see an example:\n",
    "\n",
    "def merge_sort(data):\n",
    "    if len(data) <= 1:\n",
    "        return\n",
    "\n",
    "    mid = len(data) // 2\n",
    "    left_data = data[:mid]\n",
    "    right_data = data[mid:]\n",
    "\n",
    "    merge_sort(left_data)\n",
    "    merge_sort(right_data)\n",
    "\n",
    "    left_index = 0\n",
    "    right_index = 0\n",
    "    data_index = 0\n",
    "\n",
    "    while left_index < len(left_data) and right_index < len(right_data):\n",
    "        if left_data[left_index] < right_data[right_index]:\n",
    "            data[data_index] = left_data[left_index]\n",
    "            left_index += 1\n",
    "        else:\n",
    "            data[data_index] = right_data[right_index]\n",
    "            right_index += 1\n",
    "        data_index += 1\n",
    "\n",
    "    if left_index < len(left_data):\n",
    "        del data[data_index:]\n",
    "        data += left_data[left_index:]\n",
    "    elif right_index < len(right_data):\n",
    "        del data[data_index:]\n",
    "        data += right_data[right_index:]\n",
    "\n",
    "data = list(range(0, 1000001))\n",
    "merge_sort(data)\n",
    "\n"
   ],
   "metadata": {
    "collapsed": false,
    "pycharm": {
     "name": "#%%\n"
    }
   }
  },
  {
   "cell_type": "markdown",
   "source": [
    "### The following image exemplifies the steps taken by the mergesort algorithm.\n",
    "![Merge Sort](public/img/1_a7UnRSbux0RSgVqmFDN9_Q.png)"
   ],
   "metadata": {
    "collapsed": false,
    "pycharm": {
     "name": "#%% md\n"
    }
   }
  },
  {
   "cell_type": "markdown",
   "source": [
    "# Quadratic Time — O(n²)\n",
    "An algorithm is said to have a quadratic time complexity when it needs to perform a linear time operation for each value in the input data, for example:\n",
    "\n",
    "```python\n",
    "for x in data:\n",
    "    for y in data:\n",
    "        print(x, y)\n",
    "```"
   ],
   "metadata": {
    "collapsed": false,
    "pycharm": {
     "name": "#%% md\n"
    }
   }
  },
  {
   "cell_type": "code",
   "execution_count": 30,
   "outputs": [
    {
     "name": "stdout",
     "output_type": "stream",
     "text": [
      "CPU times: total: 188 ms\n",
      "Wall time: 178 ms\n"
     ]
    }
   ],
   "source": [
    "%%time\n",
    "# Bubble sort is a great example of quadratic time complexity since for each value it needs to compare to all other values in the list, let’s see an example:\n",
    "def bubble_sort(data):\n",
    "    swapped = True\n",
    "    while swapped:\n",
    "        swapped = False\n",
    "        for i in range(len(data)-1):\n",
    "            if data[i] > data[i+1]:\n",
    "                data[i], data[i+1] = data[i+1], data[i]\n",
    "                swapped = True\n",
    "\n",
    "\n",
    "data = range(0, 1000001)\n",
    "bubble_sort(data)"
   ],
   "metadata": {
    "collapsed": false,
    "pycharm": {
     "name": "#%%\n"
    }
   }
  },
  {
   "cell_type": "markdown",
   "source": [
    "# Exponential Time — O(2^n)\n",
    "An algorithm is said to have an exponential time complexity when the growth doubles with each addition to the input data set. This kind of time complexity is usually seen in brute-force algorithms.\n",
    "\n",
    "As exemplified by Vicky Lai:\n",
    "\n",
    "#### In cryptography, a brute-force attack may systematically check all possible elements of a password by iterating through subsets. Using an exponential algorithm to do this, it becomes incredibly resource-expensive to brute-force crack a long password versus a shorter one. This is one reason that a long password is considered more secure than a shorter one.\n",
    "\n",
    "Another example of an exponential time algorithm is the recursive calculation of Fibonacci numbers:\n",
    "\n",
    "```python\n",
    "def fibonacci(n):\n",
    "    if n <= 1:\n",
    "        return n\n",
    "    return fibonacci(n-1) + fibonacci(n-2)\n",
    "```\n",
    "\n",
    "If you don’t know what a recursive function is, let’s clarify it quickly: a recursive function may be described as a function that calls itself in specific conditions. As you may have noticed, the time complexity of recursive functions is a little harder to define since it depends on how many times the function is called and the time complexity of a single function call.\n",
    "\n",
    "It makes more sense when we look at the recursion tree. The following recursion tree was generated by the Fibonacci algorithm using n = 4:\n",
    "\n",
    "![Recursion tree of Fibonacci](public/img/1_7p5XIlOv2uoxd_LFvPJ8qw.png)\n",
    "\n",
    "Note that it will call itself until it reaches the leaves. When reaching the leaves it returns the value itself.\n",
    "\n",
    "Now, look how the recursion tree grows just increasing the n to 6:\n",
    "\n",
    "![Recursion tree of Fibonacci](public/img/1_cYlZp9gnBPKKiKpJ8r5qGQ.png)\n",
    "\n",
    "You can find a more complete explanation about the time complexity of the recursive Fibonacci algorithm [here](https://stackoverflow.com/a/360773/4946821) on StackOverflow."
   ],
   "metadata": {
    "collapsed": false,
    "pycharm": {
     "name": "#%% md\n"
    }
   }
  },
  {
   "cell_type": "code",
   "execution_count": 36,
   "outputs": [
    {
     "data": {
      "text/plain": "[0, 1, 1, 2, 3, 5, 8, 13, 21, 34, 55, 89, 144, 233, 377]"
     },
     "execution_count": 36,
     "metadata": {},
     "output_type": "execute_result"
    }
   ],
   "source": [
    "%%time\n",
    "\"\"\"\n",
    "The most common and minimal algorithm to generate the Fibonacci sequence requires you to code a recursive function that calls itself as many times as needed until it computes the desired Fibonacci number:\n",
    "\"\"\"\n",
    "\n",
    "CACHE = {0,1}\n",
    "def fibonacci_of(n):\n",
    "    if n in CACHE:  # Base case\n",
    "        return n\n",
    "    return fibonacci_of(n - 1) + fibonacci_of(n - 2)  # Recursive case\n",
    "\n",
    "\n",
    "[fibonacci_of(n) for n in range(15)]"
   ],
   "metadata": {
    "collapsed": false,
    "pycharm": {
     "name": "#%%\n"
    }
   }
  },
  {
   "cell_type": "markdown",
   "source": [
    "# Factorial — O(n!)\n",
    "\n",
    "An algorithm is said to have a factorial time complexity when it grows in a factorial way based on the size of the input data, for example:\n",
    "\n",
    "```shell\n",
    "2! = 2 x 1 = 2\n",
    "3! = 3 x 2 x 1 = 6\n",
    "4! = 4 x 3 x 2 x 1 = 24\n",
    "5! = 5 x 4 x 3 x 2 x 1 = 120\n",
    "6! = 6 x 5 x 4 x 3 x 2 x 1 = 720\n",
    "7! = 7 x 6 x 5 x 4 x 3 x 2 x 1 = 5.040\n",
    "8! = 8 x 7 x 6 x 5 x 4 x 3 x 2 x 1 = 40.320\n",
    "```\n",
    "\n",
    "As you may see it grows very fast, even for a small size input.\n",
    "\n",
    "A great example of an algorithm which has a factorial time complexity is the Heap’s algorithm, which is used for generating all possible permutations of n objects.\n",
    "\n",
    "According to [Wikipedia](https://en.wikipedia.org/wiki/Heap%27s_algorithm):\n",
    "\n",
    "### Heap found a systematic method for choosing at each step a pair of elements to switch, in order to produce every possible permutation of these elements exactly once.\n"
   ],
   "metadata": {
    "collapsed": false,
    "pycharm": {
     "name": "#%% md\n"
    }
   }
  },
  {
   "cell_type": "code",
   "execution_count": 1,
   "outputs": [
    {
     "name": "stdout",
     "output_type": "stream",
     "text": [
      "[1, 2, 3]\n",
      "[2, 1, 3]\n",
      "[3, 1, 2]\n",
      "[1, 3, 2]\n",
      "[2, 3, 1]\n",
      "[3, 2, 1]\n",
      "CPU times: total: 31.2 ms\n",
      "Wall time: 1 ms\n"
     ]
    }
   ],
   "source": [
    "%%time\n",
    "\n",
    "# Let’s take a look at the example:\n",
    "\n",
    "def heap_permutation(data, n):\n",
    "    if n == 1:\n",
    "        print(data)\n",
    "        return\n",
    "\n",
    "    for i in range(n):\n",
    "        heap_permutation(data, n - 1)\n",
    "        if n % 2 == 0:\n",
    "            data[i], data[n-1] = data[n-1], data[i]\n",
    "        else:\n",
    "            data[0], data[n-1] = data[n-1], data[0]\n",
    "\n",
    "\n",
    "data = [1, 2, 3]\n",
    "heap_permutation(data, len(data))"
   ],
   "metadata": {
    "collapsed": false,
    "pycharm": {
     "name": "#%%\n"
    }
   }
  },
  {
   "cell_type": "code",
   "execution_count": null,
   "metadata": {},
   "outputs": [],
   "source": []
  },
  {
   "cell_type": "code",
   "execution_count": null,
   "metadata": {},
   "outputs": [],
   "source": []
  },
  {
   "cell_type": "code",
   "execution_count": null,
   "metadata": {},
   "outputs": [],
   "source": []
  }
 ],
 "metadata": {
  "kernelspec": {
   "display_name": "Python 3 (ipykernel)",
   "language": "python",
   "name": "python3"
  },
  "language_info": {
   "codemirror_mode": {
    "name": "ipython",
    "version": 3
   },
   "file_extension": ".py",
   "mimetype": "text/x-python",
   "name": "python",
   "nbconvert_exporter": "python",
   "pygments_lexer": "ipython3",
   "version": "3.9.12"
  }
 },
 "nbformat": 4,
 "nbformat_minor": 1
}